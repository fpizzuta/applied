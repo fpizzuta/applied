{
 "cells": [
  {
   "cell_type": "code",
   "execution_count": 1,
   "metadata": {},
   "outputs": [
    {
     "name": "stdout",
     "output_type": "stream",
     "text": [
      "Requirement already satisfied: py2neo==2.0 in e:\\programdata\\anaconda3\\lib\\site-packages\n"
     ]
    }
   ],
   "source": [
    "!pip install py2neo==2.0\n",
    "from py2neo import Graph, authenticate, Relationship"
   ]
  },
  {
   "cell_type": "code",
   "execution_count": 2,
   "metadata": {},
   "outputs": [
    {
     "data": {
      "text/plain": [
       "(3, 2, 5)"
      ]
     },
     "execution_count": 2,
     "metadata": {},
     "output_type": "execute_result"
    }
   ],
   "source": [
    "authenticate(\"localhost:7474\", \"neo4j\", \"Digitalmedia!1\")\n",
    "graph = Graph()\n",
    "graph.neo4j_version"
   ]
  },
  {
   "cell_type": "code",
   "execution_count": 6,
   "metadata": {},
   "outputs": [
    {
     "data": {
      "text/plain": [
       "    | Movieid | Title                      | Count\n",
       "----+---------+----------------------------+-------\n",
       "  1 | 191     | X2: X-Men United           |   292\n",
       "  2 | 30      | Something's Gotta Give     |   237\n",
       "  3 | 175     | Reservoir Dogs             |   224\n",
       "  4 | 28      | Lilo and Stitch            |   223\n",
       "  5 | 58      | Dragonheart                |   163\n",
       "  6 | 143     | The Game                   |   154\n",
       "  7 | 118     | Rambo: First Blood Part II |   137\n",
       "  8 | 77      | Congo                      |   132\n",
       "  9 | 111     | Duplex (Widescreen)        |   111\n",
       " 10 | 83      | Silkwood                   |   101"
      ]
     },
     "execution_count": 6,
     "metadata": {},
     "output_type": "execute_result"
    }
   ],
   "source": [
    "query=\"\"\"\n",
    "MATCH (u:User {Userid:\"822109\"})-[:Watched]->(m:Movie {Movieid:\"1\"})<-[:Watched]-(u2:User)-[r:Watched]->(m2:Movie)\n",
    "where not (u)-[:Watched]->(m2)\n",
    "return distinct m2.Movieid as Movieid, m2.Title as Title, count(m2.Movieid) as Count\n",
    "order by Count DESC\n",
    "Limit 10;\n",
    "\"\"\"\n",
    "result=graph.cypher.execute(query)\n",
    "result"
   ]
  },
  {
   "cell_type": "code",
   "execution_count": 7,
   "metadata": {},
   "outputs": [
    {
     "data": {
      "text/plain": [
       "    | Movieid | Title                                                                       | AvgRating         \n",
       "----+---------+-----------------------------------------------------------------------------+--------------------\n",
       "  1 | 13      | Lord of the Rings: The Return of the King: Extended Edition: Bonus Material |                5.0\n",
       "  2 | 191     | X2: X-Men United                                                            | 4.0547945205479445\n",
       "  3 | 175     | Reservoir Dogs                                                              | 3.7633928571428568\n",
       "  4 | 46      | Rudolph the Red-Nosed Reindeer                                              | 3.7352941176470584\n",
       "  5 | 81      | Antarctica: IMAX                                                            |  3.733333333333333\n",
       "  6 | 138     | Star Trek: Voyager: Season 1                                                | 3.7333333333333325\n",
       "  7 | 76      | I Love Lucy: Season 2                                                       |  3.723404255319149\n",
       "  8 | 28      | Lilo and Stitch                                                             |  3.699551569506728\n",
       "  9 | 73      | Davy Crockett: 50th Anniversary Double Feature                              | 3.6551724137931028\n",
       " 10 | 165     | Richard Pryor: Live on the Sunset Strip                                     | 3.6428571428571432"
      ]
     },
     "execution_count": 7,
     "metadata": {},
     "output_type": "execute_result"
    }
   ],
   "source": [
    "query=\"\"\"\n",
    "MATCH (u:User {Userid:\"822109\"})-[:Watched]->(m:Movie {Movieid:\"1\"})<-[:Watched]-(u2:User)-[r:Watched]->(m2:Movie)\n",
    "where not (u)-[:Watched]->(m2)\n",
    "return distinct m2.Movieid as Movieid, m2.Title as Title, avg(toInteger(r.Rating)) as AvgRating\n",
    "order by AvgRating DESC\n",
    "Limit 10;\n",
    "\"\"\"\n",
    "result=graph.cypher.execute(query)\n",
    "result"
   ]
  },
  {
   "cell_type": "code",
   "execution_count": null,
   "metadata": {
    "collapsed": true
   },
   "outputs": [],
   "source": []
  }
 ],
 "metadata": {
  "kernelspec": {
   "display_name": "Python 3",
   "language": "python",
   "name": "python3"
  },
  "language_info": {
   "codemirror_mode": {
    "name": "ipython",
    "version": 3
   },
   "file_extension": ".py",
   "mimetype": "text/x-python",
   "name": "python",
   "nbconvert_exporter": "python",
   "pygments_lexer": "ipython3",
   "version": "3.6.1"
  }
 },
 "nbformat": 4,
 "nbformat_minor": 2
}
